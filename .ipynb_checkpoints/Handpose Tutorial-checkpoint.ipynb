{
 "cells": [
  {
   "cell_type": "markdown",
   "metadata": {},
   "source": [
    "# 1. Install and Import Dependencies"
   ]
  },
  {
   "cell_type": "code",
   "execution_count": 21,
   "metadata": {},
   "outputs": [],
   "source": [
    "#!pip install mediapipe opencv-python"
   ]
  },
  {
   "cell_type": "code",
   "execution_count": 22,
   "metadata": {},
   "outputs": [],
   "source": [
    "import mediapipe as mp\n",
    "import cv2\n",
    "import numpy as np\n",
    "import uuid\n",
    "import os"
   ]
  },
  {
   "cell_type": "code",
   "execution_count": 23,
   "metadata": {},
   "outputs": [],
   "source": [
    "mp_drawing = mp.solutions.drawing_utils\n",
    "mp_hands = mp.solutions.hands"
   ]
  },
  {
   "cell_type": "markdown",
   "metadata": {},
   "source": [
    "# 2. Draw Hands\n",
    "<img src=https://i.imgur.com/qpRACer.png />"
   ]
  },
  {
   "cell_type": "code",
   "execution_count": 25,
   "metadata": {},
   "outputs": [
    {
     "name": "stdout",
     "output_type": "stream",
     "text": [
      "2\n",
      "1\n",
      "1\n",
      "2\n"
     ]
    }
   ],
   "source": [
    "cap = cv2.VideoCapture(0)\n",
    "i=0\n",
    "with mp_hands.Hands(min_detection_confidence=0.8, min_tracking_confidence=0.5) as hands: \n",
    "    while cap.isOpened():\n",
    "        ret, frame = cap.read()\n",
    "        \n",
    "        # BGR 2 RGB\n",
    "        image = cv2.cvtColor(frame, cv2.COLOR_BGR2RGB)\n",
    "        \n",
    "        # Flip on horizontal\n",
    "        image = cv2.flip(image, 1)\n",
    "        \n",
    "        # Set flag\n",
    "        image.flags.writeable = False\n",
    "        \n",
    "        # Detections\n",
    "        results = hands.process(image)\n",
    "        \n",
    "        # Set flag to true\n",
    "        image.flags.writeable = True\n",
    "        \n",
    "        # RGB 2 BGR\n",
    "        image = cv2.cvtColor(image, cv2.COLOR_RGB2BGR)\n",
    "        \n",
    "        # Detections\n",
    "        if i>100:\n",
    "            if results.multi_hand_landmarks is not None:\n",
    "                # show number of detected hand\n",
    "                print(len(results.multi_hand_landmarks))\n",
    "            i=0\n",
    "        else:\n",
    "            i = i +1\n",
    "        \n",
    "        # Rendering results\n",
    "        if results.multi_hand_landmarks:\n",
    "            for num, hand in enumerate(results.multi_hand_landmarks):\n",
    "                mp_drawing.draw_landmarks(image, hand, mp_hands.HAND_CONNECTIONS, \n",
    "                                        mp_drawing.DrawingSpec(color=(121, 22, 76), thickness=2, circle_radius=4),\n",
    "                                        mp_drawing.DrawingSpec(color=(250, 44, 250), thickness=2, circle_radius=2),\n",
    "                                         )\n",
    "            \n",
    "        \n",
    "        cv2.imshow('Hand Tracking', image)\n",
    "\n",
    "        if cv2.waitKey(10) & 0xFF == ord('q'):\n",
    "            break\n",
    "\n",
    "cap.release()\n",
    "cv2.destroyAllWindows()"
   ]
  },
  {
   "cell_type": "code",
   "execution_count": 13,
   "metadata": {},
   "outputs": [
    {
     "data": {
      "text/plain": [
       "[landmark {\n",
       "   x: 0.1356942355632782\n",
       "   y: -0.005143210291862488\n",
       "   z: 5.421205884204028e-08\n",
       " }\n",
       " landmark {\n",
       "   x: 0.2051745057106018\n",
       "   y: 0.01720292866230011\n",
       "   z: -0.04487750306725502\n",
       " }\n",
       " landmark {\n",
       "   x: 0.24787721037864685\n",
       "   y: 0.09327070415019989\n",
       "   z: -0.0745927169919014\n",
       " }\n",
       " landmark {\n",
       "   x: 0.24891453981399536\n",
       "   y: 0.17733043432235718\n",
       "   z: -0.0903051570057869\n",
       " }\n",
       " landmark {\n",
       "   x: 0.22716502845287323\n",
       "   y: 0.2283378690481186\n",
       "   z: -0.1026652529835701\n",
       " }\n",
       " landmark {\n",
       "   x: 0.17656338214874268\n",
       "   y: 0.06904590129852295\n",
       "   z: -0.1288682222366333\n",
       " }\n",
       " landmark {\n",
       "   x: 0.18186654150485992\n",
       "   y: 0.20081880688667297\n",
       "   z: -0.16626930236816406\n",
       " }\n",
       " landmark {\n",
       "   x: 0.20721593499183655\n",
       "   y: 0.2692136764526367\n",
       "   z: -0.16992314159870148\n",
       " }\n",
       " landmark {\n",
       "   x: 0.23275130987167358\n",
       "   y: 0.30149057507514954\n",
       "   z: -0.16601617634296417\n",
       " }\n",
       " landmark {\n",
       "   x: 0.12684853374958038\n",
       "   y: 0.09091789275407791\n",
       "   z: -0.11514390259981155\n",
       " }\n",
       " landmark {\n",
       "   x: 0.14710591733455658\n",
       "   y: 0.23212206363677979\n",
       "   z: -0.15547364950180054\n",
       " }\n",
       " landmark {\n",
       "   x: 0.1866457760334015\n",
       "   y: 0.3096100091934204\n",
       "   z: -0.1538614183664322\n",
       " }\n",
       " landmark {\n",
       "   x: 0.22034952044487\n",
       "   y: 0.3465704917907715\n",
       "   z: -0.1480441689491272\n",
       " }\n",
       " landmark {\n",
       "   x: 0.09496139734983444\n",
       "   y: 0.1164063811302185\n",
       "   z: -0.10017910599708557\n",
       " }\n",
       " landmark {\n",
       "   x: 0.11375603079795837\n",
       "   y: 0.24713826179504395\n",
       "   z: -0.13477660715579987\n",
       " }\n",
       " landmark {\n",
       "   x: 0.14842712879180908\n",
       "   y: 0.31796061992645264\n",
       "   z: -0.13793736696243286\n",
       " }\n",
       " landmark {\n",
       "   x: 0.1807381510734558\n",
       "   y: 0.3556842803955078\n",
       "   z: -0.1341576725244522\n",
       " }\n",
       " landmark {\n",
       "   x: 0.07808377593755722\n",
       "   y: 0.13657982647418976\n",
       "   z: -0.08607757836580276\n",
       " }\n",
       " landmark {\n",
       "   x: 0.0825597494840622\n",
       "   y: 0.2428310662508011\n",
       "   z: -0.11513735353946686\n",
       " }\n",
       " landmark {\n",
       "   x: 0.09601546078920364\n",
       "   y: 0.3058302402496338\n",
       "   z: -0.12553386390209198\n",
       " }\n",
       " landmark {\n",
       "   x: 0.11408868432044983\n",
       "   y: 0.34687793254852295\n",
       "   z: -0.1287059634923935\n",
       " }]"
      ]
     },
     "execution_count": 13,
     "metadata": {},
     "output_type": "execute_result"
    }
   ],
   "source": [
    "results.multi_hand_landmarks"
   ]
  },
  {
   "cell_type": "code",
   "execution_count": null,
   "metadata": {},
   "outputs": [],
   "source": [
    "mp_drawing.DrawingSpec??"
   ]
  },
  {
   "cell_type": "markdown",
   "metadata": {},
   "source": [
    "# 3. Output Images "
   ]
  },
  {
   "cell_type": "code",
   "execution_count": null,
   "metadata": {},
   "outputs": [],
   "source": [
    "os.mkdir('Output Images')"
   ]
  },
  {
   "cell_type": "code",
   "execution_count": null,
   "metadata": {},
   "outputs": [],
   "source": [
    "cap = cv2.VideoCapture(0)\n",
    "\n",
    "with mp_hands.Hands(min_detection_confidence=0.8, min_tracking_confidence=0.5) as hands: \n",
    "    while cap.isOpened():\n",
    "        ret, frame = cap.read()\n",
    "        \n",
    "        # BGR 2 RGB\n",
    "        image = cv2.cvtColor(frame, cv2.COLOR_BGR2RGB)\n",
    "        \n",
    "        # Flip on horizontal\n",
    "        image = cv2.flip(image, 1)\n",
    "        \n",
    "        # Set flag\n",
    "        image.flags.writeable = False\n",
    "        \n",
    "        # Detections\n",
    "        results = hands.process(image)\n",
    "        \n",
    "        # Set flag to true\n",
    "        image.flags.writeable = True\n",
    "        \n",
    "        # RGB 2 BGR\n",
    "        image = cv2.cvtColor(image, cv2.COLOR_RGB2BGR)\n",
    "        \n",
    "        # Detections\n",
    "        print(results)\n",
    "        \n",
    "        # Rendering results\n",
    "        if results.multi_hand_landmarks:\n",
    "            for num, hand in enumerate(results.multi_hand_landmarks):\n",
    "                mp_drawing.draw_landmarks(image, hand, mp_hands.HAND_CONNECTIONS, \n",
    "                                        mp_drawing.DrawingSpec(color=(121, 22, 76), thickness=2, circle_radius=4),\n",
    "                                        mp_drawing.DrawingSpec(color=(250, 44, 250), thickness=2, circle_radius=2),\n",
    "                                         )\n",
    "            \n",
    "        # Save our image    \n",
    "        cv2.imwrite(os.path.join('Output Images', '{}.jpg'.format(uuid.uuid1())), image)\n",
    "        cv2.imshow('Hand Tracking', image)\n",
    "\n",
    "        if cv2.waitKey(10) & 0xFF == ord('q'):\n",
    "            break\n",
    "\n",
    "cap.release()\n",
    "cv2.destroyAllWindows()"
   ]
  },
  {
   "cell_type": "code",
   "execution_count": null,
   "metadata": {},
   "outputs": [],
   "source": []
  },
  {
   "cell_type": "code",
   "execution_count": null,
   "metadata": {},
   "outputs": [],
   "source": []
  },
  {
   "cell_type": "code",
   "execution_count": null,
   "metadata": {},
   "outputs": [],
   "source": []
  }
 ],
 "metadata": {
  "kernelspec": {
   "display_name": "Python 3 (ipykernel)",
   "language": "python",
   "name": "python3"
  },
  "language_info": {
   "codemirror_mode": {
    "name": "ipython",
    "version": 3
   },
   "file_extension": ".py",
   "mimetype": "text/x-python",
   "name": "python",
   "nbconvert_exporter": "python",
   "pygments_lexer": "ipython3",
   "version": "3.8.17"
  }
 },
 "nbformat": 4,
 "nbformat_minor": 4
}
